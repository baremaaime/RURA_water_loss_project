{
 "cells": [
  {
   "cell_type": "markdown",
   "id": "baf99321",
   "metadata": {},
   "source": [
    "# Dashboard"
   ]
  },
  {
   "cell_type": "code",
   "execution_count": 1,
   "id": "baf64574",
   "metadata": {},
   "outputs": [],
   "source": [
    "import warnings\n",
    "import time\n",
    "\n",
    "import numpy as np\n",
    "import pandas as pd\n",
    "\n",
    "import matplotlib.pyplot as plt\n",
    "import plotly.express as px\n",
    "import plotly.graph_objs as go\n",
    "\n",
    "from sklearn.preprocessing import StandardScaler\n",
    "from sklearn.cluster import KMeans\n",
    "from sklearn.pipeline import make_pipeline\n",
    "from sklearn.decomposition import PCA\n",
    "\n",
    "import dash\n",
    "from jupyter_dash import JupyterDash\n",
    "import dash_html_components as html\n",
    "import dash_core_components as dcc\n",
    "from dash.dependencies import Input, Output\n",
    "\n",
    "warnings.simplefilter(action=\"ignore\", category=FutureWarning)"
   ]
  },
  {
   "cell_type": "code",
   "execution_count": null,
   "id": "2e268bfb-149c-4706-8687-2823fffe0db2",
   "metadata": {},
   "outputs": [],
   "source": [
    "import dash_bootstrap_components as dbc\n",
    "from dash import html\n",
    "\n",
    "row = html.Div(\n",
    "    [\n",
    "        dbc.Row(dbc.Col(html.Div(\"A single column\"))),\n",
    "        dbc.Row(\n",
    "            [\n",
    "                dbc.Col(html.Div(\"One of three columns\")),\n",
    "                dbc.Col(html.Div(\"One of three columns\")),\n",
    "                dbc.Col(html.Div(\"One of three columns\")),\n",
    "            ]\n",
    "        ),\n",
    "    ]\n",
    ")"
   ]
  },
  {
   "cell_type": "code",
   "execution_count": 2,
   "id": "0ad70e14",
   "metadata": {},
   "outputs": [],
   "source": [
    "external_stylesheets = ['https://codepen.io/chriddyp/pen/bWLwgP.css']\n",
    "\n",
    "app = JupyterDash(__name__, external_stylesheets=external_stylesheets)"
   ]
  },
  {
   "cell_type": "code",
   "execution_count": 3,
   "id": "2096aecd",
   "metadata": {},
   "outputs": [],
   "source": [
    "app.layout = html.Div(\n",
    "    [\n",
    "        html.Div(\n",
    "            [\n",
    "                html.H1(\"Apparent Loss in Water\")\n",
    "            ],\n",
    "            style = {\"text-align\": \"center\"}\n",
    "        ),\n",
    "        \n",
    "        html.H2(\"File Location\"),\n",
    "        dcc.Input(id=\"input-file-location\", placeholder=\"/filepath/file.csv\", \n",
    "                  type=\"text\", value=\"water_cons_data.csv\"),\n",
    "        \n",
    "        html.H2(\"Time Range\"),\n",
    "        dcc.RadioItems(id=\"input-radio-item\",\n",
    "                       options=[dict(label='6 Months', value=6), \n",
    "                                dict(label='1 Year', value=12),\n",
    "                                dict(label='2 Years', value=24)], \n",
    "                       value=24, labelStyle={'display': 'inline-block'}),\n",
    "        \n",
    "        html.H2(\"Sample Size\"),\n",
    "        dcc.Input(id=\"input-sample-size\", placeholder='Enter a %', type='number', value=10),\n",
    "        \n",
    "        html.H2(\"K-means Clustering\"),\n",
    "        dcc.Slider(min=2, max=8, step=1, value=2, id=\"k-slider\"),\n",
    "        html.Div(id=\"k-cluster-output-text\"),\n",
    "        \n",
    "        dcc.Graph(id=\"score-line-plot\")\n",
    "        \n",
    "        dcc.Graph(id=\"pca-scatter\")\n",
    "    ]\n",
    ")"
   ]
  },
  {
   "cell_type": "code",
   "execution_count": 10,
   "id": "686a1fe6-f87a-42ae-b477-7a7cd67a27bd",
   "metadata": {},
   "outputs": [
    {
     "name": "stderr",
     "output_type": "stream",
     "text": [
      "C:\\Users\\MINEDUC\\AppData\\Local\\Temp\\ipykernel_11224\\2825399698.py:6: SettingWithCopyWarning:\n",
      "\n",
      "\n",
      "A value is trying to be set on a copy of a slice from a DataFrame.\n",
      "Try using .loc[row_indexer,col_indexer] = value instead\n",
      "\n",
      "See the caveats in the documentation: https://pandas.pydata.org/pandas-docs/stable/user_guide/indexing.html#returning-a-view-versus-a-copy\n",
      "\n",
      "C:\\Users\\MINEDUC\\AppData\\Local\\Temp\\ipykernel_11224\\2825399698.py:6: SettingWithCopyWarning:\n",
      "\n",
      "\n",
      "A value is trying to be set on a copy of a slice from a DataFrame.\n",
      "Try using .loc[row_indexer,col_indexer] = value instead\n",
      "\n",
      "See the caveats in the documentation: https://pandas.pydata.org/pandas-docs/stable/user_guide/indexing.html#returning-a-view-versus-a-copy\n",
      "\n"
     ]
    }
   ],
   "source": [
    "def get_frame(filepath=\"water_cons_data.csv\", sample_size=10, time_range=24):\n",
    "    df = pd.read_csv(filepath)\n",
    "    df.set_index(\"customer_identifier\", inplace=True)\n",
    "    df_sample = df.sample(frac=sample_size * 0.01, random_state=42)\n",
    "    df = df_sample.iloc[:, -time_range:-1]\n",
    "    df[\"2021-Jun\"] = df_sample[\"2021-Jun\"].copy()\n",
    "    \n",
    "    return df"
   ]
  },
  {
   "cell_type": "code",
   "execution_count": 5,
   "id": "57118afb",
   "metadata": {},
   "outputs": [],
   "source": [
    "def get_model(filepath=\"water_cons_data.csv\", sample_size=10, time_range=24, k=2):\n",
    "    model = make_pipeline(\n",
    "        StandardScaler(), KMeans(n_clusters=k, random_state=42)\n",
    "    )\n",
    "    model.fit(\n",
    "        get_frame(filepath=filepath, sample_size=sample_size, time_range=time_range)\n",
    "    )\n",
    "    \n",
    "    return model"
   ]
  },
  {
   "cell_type": "code",
   "execution_count": 6,
   "id": "1ed91d3b",
   "metadata": {},
   "outputs": [],
   "source": [
    "def get_pca_labels(filepath=\"water_cons_data.csv\", sample_size=10, time_range=24, k=2):\n",
    "    transformer = PCA(n_components=2, random_state=42)\n",
    "    X_t = transformer.fit_transform(\n",
    "        get_frame(filepath=filepath, sample_size=sample_size, time_range=time_range)\n",
    "    )\n",
    "    X_pca = pd.DataFrame(X_t, columns=[\"PCA1\", \"PCA2\"])\n",
    "    model = get_model(filepath=filepath, sample_size=sample_size, time_range=time_range, k=k)\n",
    "    X_pca[\"labels\"] = model.named_steps[\"kmeans\"].labels_.astype(str)\n",
    "    \n",
    "    X_pca.sort_values(\"labels\", inplace=True)\n",
    "    \n",
    "    return X_pca"
   ]
  },
  {
   "cell_type": "code",
   "execution_count": 7,
   "id": "21279f2d",
   "metadata": {},
   "outputs": [],
   "source": [
    "@app.callback(\n",
    "    Output(\"k-cluster-output-text\", \"children\"),\n",
    "    Input(\"k-slider\", \"value\")\n",
    ")\n",
    "def serve_k_selected(k=2):\n",
    "    text = [\n",
    "        html.H3(f\"Number of clusters (K): {k}\")\n",
    "    ]\n",
    "    \n",
    "    return text"
   ]
  },
  {
   "cell_type": "code",
   "execution_count": 8,
   "id": "9c0dbecd",
   "metadata": {},
   "outputs": [],
   "source": [
    "@app.callback(\n",
    "    Output(\"pca-scatter\", \"figure\"),\n",
    "    Input(\"input-file-location\", \"value\"),\n",
    "    Input(\"input-radio-item\", \"value\"),\n",
    "    Input(\"input-sample-size\", \"value\"),\n",
    "    Input(\"k-slider\", \"value\")\n",
    ")\n",
    "\n",
    "def serve_scatter(filepath=\"water_cons_data.csv\", sample_size=10, time_range=24, k=2):\n",
    "    fig = px.scatter(\n",
    "        data_frame=get_pca_labels(filepath=filepath, sample_size=sample_size, time_range=time_range, k=k),\n",
    "        x=\"PCA1\", y=\"PCA2\", color=\"labels\",\n",
    "        title=\"PCA Representation of Clusters\"\n",
    "    )\n",
    "    fig.update_layout(xaxis_title=\"PCA1\", yaxis_title=\"PCA2\")\n",
    "    \n",
    "    return fig"
   ]
  },
  {
   "cell_type": "code",
   "execution_count": null,
   "id": "3d077706-7b6a-42bd-9af7-4f42cdd8b9ef",
   "metadata": {},
   "outputs": [],
   "source": [
    "def serve_line_plot(filepath=\"water_cons_data.csv\", sample_size=10, time_range=24, k=2)"
   ]
  },
  {
   "cell_type": "code",
   "execution_count": 9,
   "id": "b813cff5",
   "metadata": {},
   "outputs": [
    {
     "name": "stdout",
     "output_type": "stream",
     "text": [
      "Dash app running on http://127.0.0.1:8050/\n"
     ]
    },
    {
     "name": "stderr",
     "output_type": "stream",
     "text": [
      "C:\\Users\\MINEDUC\\AppData\\Local\\Temp\\ipykernel_11224\\2257154704.py:6: SettingWithCopyWarning: \n",
      "A value is trying to be set on a copy of a slice from a DataFrame.\n",
      "Try using .loc[row_indexer,col_indexer] = value instead\n",
      "\n",
      "See the caveats in the documentation: https://pandas.pydata.org/pandas-docs/stable/user_guide/indexing.html#returning-a-view-versus-a-copy\n",
      "  df[\"2021-Jun\"] = df_sample[\"2021-Jun\"]\n",
      "C:\\Users\\MINEDUC\\AppData\\Local\\Temp\\ipykernel_11224\\2257154704.py:6: SettingWithCopyWarning: \n",
      "A value is trying to be set on a copy of a slice from a DataFrame.\n",
      "Try using .loc[row_indexer,col_indexer] = value instead\n",
      "\n",
      "See the caveats in the documentation: https://pandas.pydata.org/pandas-docs/stable/user_guide/indexing.html#returning-a-view-versus-a-copy\n",
      "  df[\"2021-Jun\"] = df_sample[\"2021-Jun\"]\n"
     ]
    }
   ],
   "source": [
    "if __name__==\"__main__\":\n",
    "    app.run_server(mode=\"external\")"
   ]
  },
  {
   "cell_type": "code",
   "execution_count": null,
   "id": "ec486c32",
   "metadata": {},
   "outputs": [],
   "source": []
  }
 ],
 "metadata": {
  "kernelspec": {
   "display_name": "Python 3 (ipykernel)",
   "language": "python",
   "name": "python3"
  },
  "language_info": {
   "codemirror_mode": {
    "name": "ipython",
    "version": 3
   },
   "file_extension": ".py",
   "mimetype": "text/x-python",
   "name": "python",
   "nbconvert_exporter": "python",
   "pygments_lexer": "ipython3",
   "version": "3.8.13"
  }
 },
 "nbformat": 4,
 "nbformat_minor": 5
}
