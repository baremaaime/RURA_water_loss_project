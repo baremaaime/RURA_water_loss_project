{
 "cells": [
  {
   "cell_type": "markdown",
   "id": "d3a73621",
   "metadata": {},
   "source": [
    "# Apparent Loss Project"
   ]
  },
  {
   "cell_type": "code",
   "execution_count": null,
   "id": "d7260db7-b9ab-4b56-a558-df7cc2d4d59f",
   "metadata": {},
   "outputs": [],
   "source": [
    "import warnings\n",
    "import time\n",
    "from glob import glob\n",
    "\n",
    "import numpy as np\n",
    "import pandas as pd\n",
    "\n",
    "import matplotlib.pyplot as plt\n",
    "import seaborn as sns\n",
    "import plotly.express as px\n",
    "\n",
    "from sklearn.preprocessing import StandardScaler\n",
    "from sklearn.cluster import KMeans\n",
    "from sklearn.pipeline import make_pipeline\n",
    "from sklearn.decomposition import PCA\n",
    "\n",
    "from dash import Input, Output, dcc, html\n",
    "from jupyter_dash import JupyterDash\n",
    "\n",
    "warnings.simplefilter(action=\"ignore\", category=FutureWarning)"
   ]
  },
  {
   "cell_type": "code",
   "execution_count": null,
   "id": "78646c6a",
   "metadata": {},
   "outputs": [],
   "source": [
    "def wrangle(file):\n",
    "    # Import the file in excel format which is advisable to avoid losing some info\n",
    "    df = pd.read_excel(file)\n",
    "    \n",
    "    # Obtain dates only and exclude time\n",
    "    df[\"bill_date\"] = df[\"bill_date\"].astype(str).str.split(\" \", expand=True)[0]\n",
    "    \n",
    "    # Handling the occurance of many months in one excel sheet\n",
    "    nbr_of_months = sum(df[\"bill_date\"].str[:7].value_counts(normalize=True) > .30)\n",
    "    \n",
    "    # for stacked months in a excel file\n",
    "    if nbr_of_months == 3:\n",
    "        dfs = []\n",
    "        months = df[\"bill_date\"].str[:7].value_counts().sort_values().tail(3).index.to_list()\n",
    "        for month in months:\n",
    "            frame = df[df[\"bill_date\"].apply(lambda date: month in date)]\n",
    "            frame = frame.drop_duplicates(subset=[\"customer_identifier\"], keep=\"last\")\n",
    "            dfs.append(frame)\n",
    "            \n",
    "        return dfs\n",
    "    \n",
    "    # for single month in a excel file\n",
    "    else:\n",
    "        month = df[\"bill_date\"].str[:7].value_counts().sort_values(ascending=True).tail(1).index[0]\n",
    "        df = df[df[\"bill_date\"].apply(lambda date: month in date)]\n",
    "        df = df.drop_duplicates(subset=[\"customer_identifier\"], keep=\"last\")\n",
    "        \n",
    "        return df"
   ]
  },
  {
   "cell_type": "code",
   "execution_count": null,
   "id": "fcbf726d",
   "metadata": {},
   "outputs": [],
   "source": [
    "files = glob(\"excelfiles/20*.xlsx\")\n",
    "\n",
    "files"
   ]
  },
  {
   "cell_type": "code",
   "execution_count": null,
   "id": "a9430ef6",
   "metadata": {},
   "outputs": [],
   "source": [
    "!pip install openpyxl"
   ]
  },
  {
   "cell_type": "code",
   "execution_count": null,
   "id": "7a56fee2",
   "metadata": {},
   "outputs": [],
   "source": [
    "# Start time\n",
    "start = time.time()\n",
    "\n",
    "frames = [wrangle(file) for file in files]\n",
    "\n",
    "# End time\n",
    "end = time.time()\n",
    "\n",
    "print(\"Elapsed time:\", end - start)"
   ]
  },
  {
   "cell_type": "code",
   "execution_count": null,
   "id": "27d002f4",
   "metadata": {},
   "outputs": [],
   "source": [
    "len(frames), len(frames[0]), len(frames[1])"
   ]
  },
  {
   "cell_type": "code",
   "execution_count": null,
   "id": "0e266139",
   "metadata": {},
   "outputs": [],
   "source": [
    "frames[0][0].head()"
   ]
  },
  {
   "cell_type": "code",
   "execution_count": null,
   "id": "ea8571ee",
   "metadata": {},
   "outputs": [],
   "source": [
    "list_of_df = []\n",
    "list_of_df.extend(frames[0])\n",
    "list_of_df.extend(frames[1])\n",
    "list_of_df.extend(frames[2:])"
   ]
  },
  {
   "cell_type": "code",
   "execution_count": null,
   "id": "1848b703",
   "metadata": {},
   "outputs": [],
   "source": [
    "len(list_of_df)"
   ]
  },
  {
   "cell_type": "code",
   "execution_count": null,
   "id": "8f869fe7",
   "metadata": {},
   "outputs": [],
   "source": [
    "list_of_df[9].head()"
   ]
  },
  {
   "cell_type": "code",
   "execution_count": null,
   "id": "14ac0a3a",
   "metadata": {},
   "outputs": [],
   "source": [
    "months = [\"csv_files/\" + str(i) + \".csv\" for i in range(201907, 201913)]\n",
    "months.extend([\"csv_files/\" + str(i) + \".csv\" for i in range(202001, 202013)])\n",
    "months.extend([\"csv_files/\" + str(i) + \".csv\" for i in range(202101, 202107)])\n",
    "\n",
    "months"
   ]
  },
  {
   "cell_type": "code",
   "execution_count": null,
   "id": "1344d950",
   "metadata": {},
   "outputs": [],
   "source": [
    "len(months)"
   ]
  },
  {
   "cell_type": "code",
   "execution_count": null,
   "id": "ddb4678c",
   "metadata": {},
   "outputs": [],
   "source": [
    "start = time.time()\n",
    "\n",
    "i = 0\n",
    "for frame in list_of_df:\n",
    "    frame.to_csv(months[i], index=False)\n",
    "    i+=1\n",
    "    \n",
    "end = time.time()\n",
    "\n",
    "print(\"Elapsed time:\", end - start)"
   ]
  },
  {
   "cell_type": "code",
   "execution_count": null,
   "id": "efdf3064",
   "metadata": {},
   "outputs": [],
   "source": [
    "def wrangle(filepath):\n",
    "    df = pd.read_csv(filepath, usecols=[\"bill_date\", \"customer_identifier\", \"consumption\"])\n",
    "    return df"
   ]
  },
  {
   "cell_type": "code",
   "execution_count": null,
   "id": "d5ad0b62",
   "metadata": {},
   "outputs": [],
   "source": [
    "files = glob(\"csv_files/20*.csv\")\n",
    "files"
   ]
  },
  {
   "cell_type": "code",
   "execution_count": null,
   "id": "f8b1f3f6",
   "metadata": {},
   "outputs": [],
   "source": [
    "start = time.time()\n",
    "\n",
    "frames = [wrangle(file) for file in files]\n",
    "    \n",
    "end = time.time()\n",
    "\n",
    "print(\"Elapsed time:\", end - start)"
   ]
  },
  {
   "cell_type": "code",
   "execution_count": null,
   "id": "c7e60c83",
   "metadata": {},
   "outputs": [],
   "source": [
    "frames[23].head()"
   ]
  },
  {
   "cell_type": "code",
   "execution_count": null,
   "id": "74f983de",
   "metadata": {},
   "outputs": [],
   "source": [
    "start = time.time()\n",
    "\n",
    "water_cons_df = frames[0].drop(columns=\"bill_date\")\n",
    "for frame in frames[1:]:\n",
    "    water_cons_df = pd.merge(\n",
    "        water_cons_df, \n",
    "        frame.drop(columns=\"bill_date\"), \n",
    "        on=\"customer_identifier\", how=\"inner\"\n",
    "    )\n",
    "    \n",
    "end = time.time()\n",
    "print(\"Elapsed time:\", end - start)"
   ]
  },
  {
   "cell_type": "code",
   "execution_count": null,
   "id": "f2258563",
   "metadata": {},
   "outputs": [],
   "source": [
    "print(water_cons_df.shape)\n",
    "water_cons_df.head()"
   ]
  },
  {
   "cell_type": "code",
   "execution_count": null,
   "id": "d4237252",
   "metadata": {},
   "outputs": [],
   "source": [
    "columns = [\"customer_identifier\"]\n",
    "columns.extend(pd.date_range('2019-06-10','2021-06-07', freq='MS').strftime(\"%Y-%b\").tolist())\n",
    "    \n",
    "water_cons_df.columns = columns"
   ]
  },
  {
   "cell_type": "code",
   "execution_count": null,
   "id": "7e8dce0e",
   "metadata": {},
   "outputs": [],
   "source": [
    "print(water_cons_df.shape)\n",
    "print(water_cons_df.columns)\n",
    "water_cons_df.head()"
   ]
  },
  {
   "cell_type": "code",
   "execution_count": null,
   "id": "b9f0ad34",
   "metadata": {},
   "outputs": [],
   "source": [
    "water_cons_df.info()"
   ]
  },
  {
   "cell_type": "code",
   "execution_count": null,
   "id": "9e4065ff",
   "metadata": {},
   "outputs": [],
   "source": [
    "water_cons_df.to_csv(\"water_cons_data.csv\", index=False)"
   ]
  },
  {
   "cell_type": "code",
   "execution_count": null,
   "id": "8568ad41",
   "metadata": {},
   "outputs": [],
   "source": [
    "df = pd.read_csv(\"water_cons_data.csv\")"
   ]
  },
  {
   "cell_type": "code",
   "execution_count": null,
   "id": "eb413fd7",
   "metadata": {},
   "outputs": [],
   "source": [
    "print(df.shape)\n",
    "df.head()"
   ]
  },
  {
   "cell_type": "code",
   "execution_count": null,
   "id": "dd6bfe99",
   "metadata": {},
   "outputs": [],
   "source": [
    "df_sample = df.sample(frac=.05, random_state=42)\n",
    "\n",
    "print(df_sample.shape)\n",
    "df_sample.head()"
   ]
  },
  {
   "cell_type": "code",
   "execution_count": null,
   "id": "bb51249a",
   "metadata": {},
   "outputs": [],
   "source": [
    "df_sample.set_index(\"customer_identifier\", inplace=True)"
   ]
  },
  {
   "cell_type": "code",
   "execution_count": null,
   "id": "7003b3ed",
   "metadata": {},
   "outputs": [],
   "source": [
    "df_sample.head()"
   ]
  },
  {
   "cell_type": "code",
   "execution_count": null,
   "id": "ee7ffaf9",
   "metadata": {},
   "outputs": [],
   "source": [
    "model = make_pipeline(\n",
    "    StandardScaler(), KMeans(n_clusters=2, random_state=42)\n",
    ")\n",
    "\n",
    "model.fit(df_sample)"
   ]
  },
  {
   "cell_type": "code",
   "execution_count": null,
   "id": "b2e2b3aa",
   "metadata": {},
   "outputs": [],
   "source": [
    "pca = PCA(n_components=2, random_state=42)\n",
    "df_sample_tr = pd.DataFrame(pca.fit_transform(df_sample), columns=[\"PCA1\", \"PCA2\"], index=df_sample.index)"
   ]
  },
  {
   "cell_type": "code",
   "execution_count": null,
   "id": "763e66e4",
   "metadata": {},
   "outputs": [],
   "source": [
    "print(df_sample_tr.shape)\n",
    "df_sample_tr.head()"
   ]
  },
  {
   "cell_type": "code",
   "execution_count": null,
   "id": "c17c6fe8",
   "metadata": {},
   "outputs": [],
   "source": [
    "df_sample_tr[\"labels\"] = model.named_steps[\"kmeans\"].labels_.astype(str)"
   ]
  },
  {
   "cell_type": "code",
   "execution_count": null,
   "id": "cd459d75",
   "metadata": {},
   "outputs": [],
   "source": [
    "df_sample_tr.head()"
   ]
  },
  {
   "cell_type": "code",
   "execution_count": null,
   "id": "b323d655",
   "metadata": {},
   "outputs": [],
   "source": [
    "df_sample_tr[\"labels\"].value_counts()"
   ]
  },
  {
   "cell_type": "code",
   "execution_count": null,
   "id": "36b029e8",
   "metadata": {},
   "outputs": [],
   "source": [
    "df_sample[df_sample_tr[\"labels\"] == \"1\"]"
   ]
  },
  {
   "cell_type": "code",
   "execution_count": null,
   "id": "0390b3d3",
   "metadata": {},
   "outputs": [],
   "source": [
    "fig = px.scatter(\n",
    "        data_frame=df_sample_tr,\n",
    "        x=\"PCA1\", y=\"PCA2\", color=\"labels\",\n",
    "        title=\"PCA Representation of Clusters\"\n",
    ")\n",
    "    \n",
    "fig.update_layout(xaxis_title=\"PCA1\", yaxis_title=\"PCA2\")"
   ]
  },
  {
   "cell_type": "code",
   "execution_count": null,
   "id": "e136e2fa",
   "metadata": {},
   "outputs": [],
   "source": [
    "app = JupyterDash(__name__)"
   ]
  },
  {
   "cell_type": "code",
   "execution_count": null,
   "id": "05e8da2e",
   "metadata": {},
   "outputs": [],
   "source": [
    "app.layout = html.Div(\n",
    "    [\n",
    "        html.H1(\"Tracking Apparent Losses in Water Bills\")\n",
    "    ]\n",
    ")"
   ]
  },
  {
   "cell_type": "code",
   "execution_count": null,
   "id": "f643e90c",
   "metadata": {},
   "outputs": [],
   "source": [
    "app.layout = html.Div(\n",
    "    [\n",
    "        html.H1(\"Survey of Consumer Finances\"),\n",
    "        html.H2(\"High Variance Features\"),\n",
    "        dcc.Graph(id=\"bar-chart\"),\n",
    "        dcc.RadioItems(\n",
    "            options=[\n",
    "                {\"label\": \"trimmed\", \"value\": True},\n",
    "                {\"label\": \"not trimmed\", \"value\": False}\n",
    "            ],\n",
    "            value=True,\n",
    "            id=\"trim-button\"\n",
    "        ),\n",
    "        html.H2(\"K-means Clustering\"),\n",
    "        html.H3(\"Number of Clusters (k)\"),\n",
    "        dcc.Slider(min=2, max=12, step=1, value=2, id=\"k-slider\"),\n",
    "        html.Div(id=\"metrics\"),\n",
    "        dcc.Graph(id=\"pca-scatter\")\n",
    "    ]\n",
    ")"
   ]
  },
  {
   "cell_type": "code",
   "execution_count": null,
   "id": "c5b65f80",
   "metadata": {},
   "outputs": [],
   "source": [
    "def get_high_var_features(trimmed=True, return_feat_names=True):\n",
    "\n",
    "    \"\"\"Returns the five highest-variance features of ``df``.\n",
    "\n",
    "    Parameters\n",
    "    ----------\n",
    "    trimmed : bool, default=True\n",
    "        If ``True``, calculates trimmed variance, removing bottom and top 10%\n",
    "        of observations.\n",
    "\n",
    "    return_feat_names : bool, default=False\n",
    "        If ``True``, returns feature names as a ``list``. If ``False``\n",
    "        returns ``Series``, where index is feature names and values are\n",
    "        variances.\n",
    "    \"\"\"\n",
    "    if trimmed:\n",
    "        top_five_features = df.apply(trimmed_var).sort_values().tail(5)\n",
    "    else:\n",
    "        top_five_features = df.var().sort_values().tail(5)\n",
    "        \n",
    "    if return_feat_names:\n",
    "        top_five_features = top_five_features.index.to_list()\n",
    "    \n",
    "    return top_five_features"
   ]
  },
  {
   "cell_type": "code",
   "execution_count": null,
   "id": "7b9fe84d",
   "metadata": {},
   "outputs": [],
   "source": [
    "@app.callback(\n",
    "    Output(\"bar-chart\", \"figure\"), Input(\"trim-button\", \"value\")\n",
    ")\n",
    "def serve_bar_chart(trimmed=True):\n",
    "\n",
    "    \"\"\"Returns a horizontal bar chart of five highest-variance features.\n",
    "\n",
    "    Parameters\n",
    "    ----------\n",
    "    trimmed : bool, default=True\n",
    "        If ``True``, calculates trimmed variance, removing bottom and top 10%\n",
    "        of observations.\n",
    "    \"\"\"\n",
    "    top_five_features = get_high_var_features(trimmed=trimmed, return_feat_names=False)\n",
    "    \n",
    "    fig = px.bar(x=top_five_features, y=top_five_features.index, orientation=\"h\")\n",
    "    fig.update_layout(xaxis_title=\"Variance\", yaxis_title=\"Feature\")\n",
    "    \n",
    "    return fig"
   ]
  },
  {
   "cell_type": "code",
   "execution_count": null,
   "id": "3166cb46",
   "metadata": {},
   "outputs": [],
   "source": [
    "def get_model_metrics(trimmed=True, k=2, return_metrics=False):\n",
    "\n",
    "    \"\"\"Build ``KMeans`` model based on five highest-variance features in ``df``.\n",
    "\n",
    "    Parameters\n",
    "    ----------\n",
    "    trimmed : bool, default=True\n",
    "        If ``True``, calculates trimmed variance, removing bottom and top 10%\n",
    "        of observations.\n",
    "\n",
    "    k : int, default=2\n",
    "        Number of clusters.\n",
    "\n",
    "    return_metrics : bool, default=False\n",
    "        If ``False`` returns ``KMeans`` model. If ``True`` returns ``dict``\n",
    "        with inertia and silhouette score.\n",
    "\n",
    "    \"\"\"\n",
    "    features = get_high_var_features(trimmed=trimmed, return_feat_names=True)\n",
    "    X = df[features]\n",
    "    model = make_pipeline(StandardScaler(), KMeans(n_clusters=k, random_state=42))\n",
    "    model.fit(X)\n",
    "    \n",
    "    if return_metrics:\n",
    "        i = model.named_steps[\"kmeans\"].inertia_\n",
    "        ss = silhouette_score(X, model.named_steps[\"kmeans\"].labels_)\n",
    "        metrics = {\n",
    "            \"inertia\": round(i),\n",
    "            \"silhouette\": round(ss, 3)\n",
    "        }\n",
    "        \n",
    "        return metrics\n",
    "    \n",
    "    return model"
   ]
  },
  {
   "cell_type": "code",
   "execution_count": null,
   "id": "a51e6a78",
   "metadata": {},
   "outputs": [],
   "source": [
    "@app.callback(\n",
    "    Output(\"metrics\", \"children\"),\n",
    "    Input(\"trim-button\", \"value\"),\n",
    "    Input(\"k-slider\", \"value\")\n",
    ")\n",
    "def serve_metrics(trimmed=True, k=2):\n",
    "\n",
    "    \"\"\"Returns list of ``H3`` elements containing inertia and silhouette score\n",
    "    for ``KMeans`` model.\n",
    "\n",
    "    Parameters\n",
    "    ----------\n",
    "    trimmed : bool, default=True\n",
    "        If ``True``, calculates trimmed variance, removing bottom and top 10%\n",
    "        of observations.\n",
    "\n",
    "    k : int, default=2\n",
    "        Number of clusters.\n",
    "    \"\"\"\n",
    "    metrics = get_model_metrics(trimmed=trimmed, k=k, return_metrics=True)\n",
    "    text = [\n",
    "        html.H3(f\"Inertia: {metrics['inertia']}\"),\n",
    "        html.H3(f\"Silhouette Score: {metrics['silhouette']}\")\n",
    "    ]\n",
    "    \n",
    "    return text"
   ]
  },
  {
   "cell_type": "code",
   "execution_count": null,
   "id": "f99b5ec8",
   "metadata": {},
   "outputs": [],
   "source": [
    "def get_pca_labels(trimmed=True, k=2):\n",
    "\n",
    "    \"\"\"\n",
    "    ``KMeans`` labels.\n",
    "\n",
    "    Parameters\n",
    "    ----------\n",
    "    trimmed : bool, default=True\n",
    "        If ``True``, calculates trimmed variance, removing bottom and top 10%\n",
    "        of observations.\n",
    "\n",
    "    k : int, default=2\n",
    "        Number of clusters.\n",
    "    \"\"\"\n",
    "    features = get_high_var_features(trimmed=trimmed, return_feat_names=True)\n",
    "    X = df[features]\n",
    "    transformer = PCA(n_components=2, random_state=42)\n",
    "    X_t = transformer.fit_transform(X)\n",
    "    X_pca = pd.DataFrame(X_t, columns=[\"PCA1\", \"PCA2\"])\n",
    "    model = get_model_metrics(trimmed=trimmed, k=k, return_metrics=False)\n",
    "    X_pca[\"labels\"] = model.named_steps[\"kmeans\"].labels_.astype(str)\n",
    "    \n",
    "    X_pca.sort_values(\"labels\", inplace=True)\n",
    "    \n",
    "    return X_pca"
   ]
  },
  {
   "cell_type": "code",
   "execution_count": null,
   "id": "99de7b28",
   "metadata": {},
   "outputs": [],
   "source": [
    "@app.callback(\n",
    "    Output(\"pca-scatter\", \"figure\"),\n",
    "    Input(\"trim-button\", \"value\"),\n",
    "    Input(\"k-slider\", \"value\")\n",
    ")\n",
    "def serve_scatter_plot(trimmed=True, k=2):\n",
    "\n",
    "    \"\"\"Build 2D scatter plot of ``df`` with ``KMeans`` labels.\n",
    "\n",
    "    Parameters\n",
    "    ----------\n",
    "    trimmed : bool, default=True\n",
    "        If ``True``, calculates trimmed variance, removing bottom and top 10%\n",
    "        of observations.\n",
    "\n",
    "    k : int, default=2\n",
    "        Number of clusters.\n",
    "    \"\"\"\n",
    "    fig = px.scatter(\n",
    "        data_frame=get_pca_labels(trimmed=trimmed, k=k),\n",
    "        x=\"PCA1\", y=\"PCA2\", color=\"labels\",\n",
    "        title=\"PCA Representation of Clusters\"\n",
    "    )\n",
    "    \n",
    "    fig.update_layout(xaxis_title=\"PCA1\", yaxis_title=\"PCA2\")\n",
    "    \n",
    "    return fig"
   ]
  },
  {
   "cell_type": "code",
   "execution_count": null,
   "id": "c1757f4f",
   "metadata": {},
   "outputs": [],
   "source": [
    "app.run_server(host=\"0.0.0.0\", mode=\"external\")"
   ]
  },
  {
   "cell_type": "code",
   "execution_count": null,
   "id": "acf7de5e",
   "metadata": {},
   "outputs": [],
   "source": []
  }
 ],
 "metadata": {
  "kernelspec": {
   "display_name": "Python 3 (ipykernel)",
   "language": "python",
   "name": "python3"
  },
  "language_info": {
   "codemirror_mode": {
    "name": "ipython",
    "version": 3
   },
   "file_extension": ".py",
   "mimetype": "text/x-python",
   "name": "python",
   "nbconvert_exporter": "python",
   "pygments_lexer": "ipython3",
   "version": "3.8.13"
  }
 },
 "nbformat": 4,
 "nbformat_minor": 5
}
